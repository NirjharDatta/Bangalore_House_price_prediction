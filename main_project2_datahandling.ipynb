{
 "cells": [
  {
   "cell_type": "code",
   "execution_count": null,
   "metadata": {},
   "outputs": [],
   "source": [
    "import numpy as np \n",
    "import pandas as pd \n",
    "from matplotlib import pyplot as plt\n",
    "#import required packages"
   ]
  },
  {
   "cell_type": "code",
   "execution_count": null,
   "metadata": {},
   "outputs": [
    {
     "name": "stdout",
     "output_type": "stream",
     "text": [
      "              area_type   availability                  location  size  \\\n",
      "0  Super built-up  Area         19-Dec  Electronic City Phase II   2.0   \n",
      "1            Plot  Area  Ready To Move          Chikka Tirupathi   4.0   \n",
      "2        Built-up  Area  Ready To Move               Uttarahalli   3.0   \n",
      "3  Super built-up  Area  Ready To Move        Lingadheeranahalli   3.0   \n",
      "4  Super built-up  Area  Ready To Move                  Kothanur   2.0   \n",
      "\n",
      "       Bed  society total_sqft  bath  balcony   price  \n",
      "0      BHK  Coomee        1056   2.0      1.0   39.07  \n",
      "1  Bedroom  Theanmp       2600   5.0      3.0  120.00  \n",
      "2      BHK      NaN       1440   2.0      3.0   62.00  \n",
      "3      BHK  Soiewre       1521   3.0      1.0   95.00  \n",
      "4      BHK      NaN       1200   2.0      1.0   51.00  \n",
      "Index(['area_type', 'availability', 'location', 'size', 'Bed', 'society',\n",
      "       'total_sqft', 'bath', 'balcony', 'price'],\n",
      "      dtype='object')\n"
     ]
    }
   ],
   "source": [
    "df= pd.read_csv(r\"C:\\Users\\NIRJHAR\\Documents\\zico documents\\heavy dataset\\Banagalore_house_price.csv\")\n",
    "print (df.head())\n",
    "print(df.columns)\n",
    "df.to_csv(r\"C:\\Users\\NIRJHAR\\Documents\\zico documents\\heavy dataset\\updated_sheet.csv\")\n",
    "df_copy=pd.read_csv(r\"C:\\Users\\NIRJHAR\\Documents\\zico documents\\heavy dataset\\updated_sheet.csv\")\n",
    "#load and read csv file for modifications"
   ]
  },
  {
   "cell_type": "code",
   "execution_count": null,
   "metadata": {},
   "outputs": [],
   "source": [
    "df_copy=pd.read_csv(r\"C:\\Users\\NIRJHAR\\Documents\\zico documents\\heavy dataset\\updated_sheet.csv\")\n",
    "#read csv file after each modification in csv file"
   ]
  },
  {
   "cell_type": "code",
   "execution_count": null,
   "metadata": {},
   "outputs": [],
   "source": [
    "df_copy.to_csv(r\"C:\\Users\\NIRJHAR\\Documents\\zico documents\\heavy dataset\\updated_sheet.csv\",index= False)\n",
    "#update csv file after modifying through code"
   ]
  },
  {
   "cell_type": "markdown",
   "metadata": {},
   "source": [
    "Performed one-hot encoding of data using pd.get_dummies() to convert categorical data into numerical form.\n",
    "THe cell had been deleted after the work."
   ]
  },
  {
   "cell_type": "code",
   "execution_count": null,
   "metadata": {},
   "outputs": [
    {
     "name": "stdout",
     "output_type": "stream",
     "text": [
      "size                                     int64\n",
      "bath                                     int64\n",
      "balcony                                  int64\n",
      "price                                  float64\n",
      "area_type_Built-up  Area                 int64\n",
      "area_type_Carpet  Area                   int64\n",
      "area_type_Plot  Area                     int64\n",
      "area_type_Super built-up  Area           int64\n",
      "Bed_BHK                                  int64\n",
      "Bed_Bedroom                              int64\n",
      "Bed_RK                                   int64\n",
      "net_sqft                               float64\n",
      "status_April                             int64\n",
      "status_August                            int64\n",
      "status_December                          int64\n",
      "status_February                          int64\n",
      "status_January                           int64\n",
      "status_July                              int64\n",
      "status_June                              int64\n",
      "status_March                             int64\n",
      "status_May                               int64\n",
      "status_November                          int64\n",
      "status_October                           int64\n",
      "status_Ready To Move                     int64\n",
      "Zone_Central Bangalore                   int64\n",
      "Zone_East Bangalore                      int64\n",
      "Zone_North-East Bangalore                int64\n",
      "Zone_North-West Bangalore                int64\n",
      "Zone_Outskirts/Peripheral Bangalore      int64\n",
      "Zone_South Bangalore                     int64\n",
      "Zone_South-East Bangalore                int64\n",
      "Zone_South-West Bangalore                int64\n",
      "Zone_Uncategorized                       int64\n",
      "Zone_West Bangalore                      int64\n",
      "dtype: object\n"
     ]
    }
   ],
   "source": [
    "for col in df_copy.columns:\n",
    "    if(df_copy[col].dtypes==bool):\n",
    "        df_copy[col]=df_copy[col].astype(int)\n",
    "print(df_copy.dtypes)\n",
    "#convert datatypes of columns to integer or float for use in regression model"
   ]
  },
  {
   "cell_type": "code",
   "execution_count": null,
   "metadata": {},
   "outputs": [
    {
     "name": "stdout",
     "output_type": "stream",
     "text": [
      "   Unnamed: 0   availability                  location  size  society  \\\n",
      "0           0         19-Dec  Electronic City Phase II   2.0  Coomee    \n",
      "1           1  Ready To Move          Chikka Tirupathi   4.0  Theanmp   \n",
      "2           2  Ready To Move               Uttarahalli   3.0      NaN   \n",
      "3           3  Ready To Move        Lingadheeranahalli   3.0  Soiewre   \n",
      "4           4  Ready To Move                  Kothanur   2.0      NaN   \n",
      "\n",
      "  total_sqft  bath  balcony   price  area_type_Built-up  Area  \\\n",
      "0       1056   2.0        1   39.07                         0   \n",
      "1       2600   5.0        3  120.00                         0   \n",
      "2       1440   2.0        3   62.00                         1   \n",
      "3       1521   3.0        1   95.00                         0   \n",
      "4       1200   2.0        1   51.00                         0   \n",
      "\n",
      "   area_type_Carpet  Area  area_type_Plot  Area  \\\n",
      "0                       0                     0   \n",
      "1                       0                     1   \n",
      "2                       0                     0   \n",
      "3                       0                     0   \n",
      "4                       0                     0   \n",
      "\n",
      "   area_type_Super built-up  Area  Bed_BHK  Bed_Bedroom  Bed_RK  \n",
      "0                               1      2.0          0.0       0  \n",
      "1                               0      0.0          4.0       0  \n",
      "2                               0      3.0          0.0       0  \n",
      "3                               1      3.0          0.0       0  \n",
      "4                               1      2.0          0.0       0  \n"
     ]
    }
   ],
   "source": [
    "\n",
    "if (np.all(df_copy[\"Bed_BHK\"] <=1 ) and np.all(df_copy[\"Bed_Bedroom\"]<=1) and np.all(df_copy[\"Bed_RK\"]<=1)):\n",
    "    df_copy[\"Bed_Bedroom\"]=df_copy[\"size\"]*df_copy[\"Bed_Bedroom\"]\n",
    "    df_copy[\"Bed_BHK\"]=df_copy[\"size\"]*df_copy[\"Bed_BHK\"]\n",
    "    df_copy[\"Bed_RK\"]=df_copy[\"Bed_RK\"]*df_copy[\"Bed_RK\"]\n",
    "print (df_copy.head())\n",
    "#modified and seperated size as bedroom,BHK and RK types"
   ]
  },
  {
   "cell_type": "code",
   "execution_count": null,
   "metadata": {},
   "outputs": [],
   "source": [
    "#df_copy[\"Bed_BHK\"]=pow(df_copy[\"Bed_BHK\"],2)\n",
    "#df_copy[\"size\"]=pow(df_copy[\"size\"],0.5)\n",
    "#df_copy[\"net_sqft\"]=pow(df_copy[\"net_sqft\"],0.1)\n",
    "#df_copy[\"balcony\"]=pow(df_copy[\"balcony\"],10)\n",
    "#df_copy[\"bath\"]=pow(df_copy[\"bath\"],0.5)\n",
    "#df_copy[\"net_sqft\"]=np.expm1(df_copy[\"net_sqft\"])\n"
   ]
  },
  {
   "cell_type": "markdown",
   "metadata": {},
   "source": [
    "Modified features individually to have a better correlation with price."
   ]
  }
 ],
 "metadata": {
  "kernelspec": {
   "display_name": "Python 3",
   "language": "python",
   "name": "python3"
  },
  "language_info": {
   "codemirror_mode": {
    "name": "ipython",
    "version": 3
   },
   "file_extension": ".py",
   "mimetype": "text/x-python",
   "name": "python",
   "nbconvert_exporter": "python",
   "pygments_lexer": "ipython3",
   "version": "3.12.6"
  }
 },
 "nbformat": 4,
 "nbformat_minor": 2
}
